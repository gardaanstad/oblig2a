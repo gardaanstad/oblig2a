{
 "cells": [
  {
   "cell_type": "markdown",
   "metadata": {},
   "source": [
    "# IN2110 Oblig 2a\n",
    "## Oppgave 2 og 3\n",
    "Etter at du har trent modellen fra kommandolinja, gjøres resten av programmeringen, rapporteringen og besvarelse ellers i dette dokumentet. Lag celler for markdown og kode etter behov."
   ]
  },
  {
   "cell_type": "code",
   "execution_count": 7,
   "metadata": {},
   "outputs": [
    {
     "name": "stdout",
     "output_type": "stream",
     "text": [
      "spaCy version: 3.7.2\n"
     ]
    }
   ],
   "source": [
    "import spacy\n",
    "from helpers.conllu import ConlluDoc\n",
    "print(\"spaCy version:\",spacy.__version__) "
   ]
  },
  {
   "cell_type": "code",
   "execution_count": 8,
   "metadata": {},
   "outputs": [],
   "source": [
    "def attachment_score(true, pred):\n",
    "    \"\"\"Tar inn to lister av doc der liste nr 2 har predikert depedens. Finner andel korrekte head (UAS), og korrekte head+dependensrelasjoner (LAS)\n",
    "    Merk at depedensrelasjonene som SpaCy estimerer har \"ROOT\" med store bokstaver, mens våre data har \"root\" med små.\n",
    "    Dette er den samme relasjonen, og skal teller som korrekt estimert \"\"\"\n",
    "    \n",
    "    # uas = (words with correct head) / words\n",
    "    \n",
    "    word_count = 0\n",
    "    correct_heads = 0\n",
    "    correct_head_and_deprels = 0\n",
    "    \n",
    "    for i in range(len(pred)):\n",
    "        for j in range(len(pred[i])):\n",
    "            word_count += 1\n",
    "            \n",
    "            # sjekker om hodet til det gitte ordet har samme indeks i true og pred (sjekker om hodene er like)\n",
    "            if not true[i][j].head.i == pred[i][j].head.i:\n",
    "                continue\n",
    "            correct_heads += 1\n",
    "            \n",
    "            # sjekker om dependesrelasjoner er like\n",
    "            if not true[i][j].dep_ == pred[i][j].dep_.lower():\n",
    "                continue\n",
    "            correct_head_and_deprels += 1\n",
    "    \n",
    "    uas = correct_heads / word_count\n",
    "    las = correct_head_and_deprels / word_count    \n",
    "    \n",
    "    return uas, las\n",
    "\n"
   ]
  },
  {
   "cell_type": "code",
   "execution_count": 9,
   "metadata": {},
   "outputs": [],
   "source": [
    "nb = spacy.load(\"output/model-best\")"
   ]
  },
  {
   "cell_type": "code",
   "execution_count": 10,
   "metadata": {},
   "outputs": [
    {
     "name": "stdout",
     "output_type": "stream",
     "text": [
      "False\n",
      "True\n"
     ]
    }
   ],
   "source": [
    "# Laste inn bokmål dev-filen\n",
    "from helpers.conllu import ConlluDoc\n",
    "conllu_dev = ConlluDoc.from_file(\"no_bokmaal-ud-dev.conllu\")\n",
    "\n",
    "# Konvertere denne til spaCy-objekter\n",
    "dev_docs = conllu_dev.to_spacy(nb)\n",
    "\n",
    "# Lage en versjon uten labels\n",
    "dev_docs_unlabeled = conllu_dev.to_spacy(nb, keep_labels=False)\n",
    "\n",
    "# Lage en funksjon som tar inn en liste av spaCy dok-objekter og parser disse\n",
    "def parse(model, docs):\n",
    "    return [model(doc) for doc in docs]  # gjør model(doc) for hvert doc i docs\n",
    "\n",
    "# Sjekk om parser funker\n",
    "docs = dev_docs_unlabeled\n",
    "\n",
    "print(docs[0].has_annotation(\"DEP\"))\n",
    "# False\n",
    "\n",
    "parse(nb, docs)\n",
    "\n",
    "print(docs[0].has_annotation(\"DEP\"))\n",
    "# True"
   ]
  },
  {
   "cell_type": "code",
   "execution_count": 11,
   "metadata": {},
   "outputs": [
    {
     "name": "stdout",
     "output_type": "stream",
     "text": [
      "(0.8765982017652396, 0.8434930847699964)\n"
     ]
    }
   ],
   "source": [
    "# Du skal nå beregne UAS og LAS for parseren din når den testes på development-settet og beskrive resultatene dine i rapporten.\n",
    "pred = parse(nb, dev_docs_unlabeled)\n",
    "print(attachment_score(dev_docs, pred))"
   ]
  },
  {
   "cell_type": "code",
   "execution_count": 12,
   "metadata": {},
   "outputs": [
    {
     "name": "stdout",
     "output_type": "stream",
     "text": [
      "no_nynorsk:\n",
      "(0.6744, 0.591968)\n",
      "no_nynorsklia:\n",
      "(0.4550821607792975, 0.3560956410508708)\n"
     ]
    }
   ],
   "source": [
    "# Test parseren du har trent på datasettene no_nynorsk-ud-dev.conllu og no_nynorsklia-ud-dev.conllu og rapporter resultatene (UAS og LAS) i en tabell. Beskriv kort hva du observerer.\n",
    "\n",
    "# no_nynorsk\n",
    "dev = ConlluDoc.from_file(\"no_nynorsk-ud-dev.conllu\")\n",
    "dev_docs = dev.to_spacy(nb)\n",
    "dev_docs_unlabeled = dev.to_spacy(nb, keep_labels=False)\n",
    "\n",
    "pred = parse(nb, dev_docs_unlabeled)\n",
    "print(\"no_nynorsk:\")\n",
    "print(attachment_score(dev_docs, pred))\n",
    "\n",
    "# no_nynorsklia\n",
    "dev = ConlluDoc.from_file(\"no_nynorsklia-ud-dev.conllu\")\n",
    "dev_docs = dev.to_spacy(nb)\n",
    "dev_docs_unlabeled = dev.to_spacy(nb, keep_labels=False)\n",
    "\n",
    "pred = parse(nb, dev_docs_unlabeled)\n",
    "print(\"no_nynorsklia:\")\n",
    "print(attachment_score(dev_docs, pred))"
   ]
  }
 ],
 "metadata": {
  "interpreter": {
   "hash": "26890c58fd4f0c09a120ad97e482824172cf42aed555772326092c2601d2cef8"
  },
  "kernelspec": {
   "display_name": "Python 3 (ipykernel)",
   "language": "python",
   "name": "python3"
  },
  "language_info": {
   "codemirror_mode": {
    "name": "ipython",
    "version": 3
   },
   "file_extension": ".py",
   "mimetype": "text/x-python",
   "name": "python",
   "nbconvert_exporter": "python",
   "pygments_lexer": "ipython3",
   "version": "3.9.18"
  }
 },
 "nbformat": 4,
 "nbformat_minor": 4
}
