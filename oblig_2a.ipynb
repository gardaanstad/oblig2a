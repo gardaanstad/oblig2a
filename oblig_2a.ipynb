{
 "cells": [
  {
   "cell_type": "markdown",
   "metadata": {},
   "source": [
    "# IN2110 Oblig 2a\n",
    "## Oppgave 2 og 3\n",
    "Etter at du har trent modellen fra kommandolinja, gjøres resten av programmeringen, rapporteringen og besvarelse ellers i dette dokumentet. Lag celler for markdown og kode etter behov."
   ]
  },
  {
   "cell_type": "code",
   "execution_count": 1,
   "metadata": {},
   "outputs": [
    {
     "name": "stdout",
     "output_type": "stream",
     "text": [
      "spaCy version: 3.7.2\n"
     ]
    }
   ],
   "source": [
    "import spacy\n",
    "from helpers.conllu import ConlluDoc\n",
    "print(\"spaCy version:\",spacy.__version__) "
   ]
  },
  {
   "cell_type": "code",
   "execution_count": 8,
   "metadata": {},
   "outputs": [],
   "source": [
    "\n",
    "\n",
    "\n",
    "def attachment_score(true, pred):\n",
    "    \"\"\"Tar inn to lister av doc der liste nr 2 har predikert depedens. Finner andel korrekte head (UAS), og korrekte head+dependensrelasjoner (LAS)\n",
    "    Merk at depedensrelasjonene som SpaCy estimerer har \"ROOT\" med store bokstaver, mens våre data har \"root\" med små.\n",
    "    Dette er den samme relasjonen, og skal teller som korrekt estimert \"\"\"\n",
    "    #TODO\n",
    "\n",
    "    return uas, las\n",
    "\n"
   ]
  },
  {
   "cell_type": "markdown",
   "metadata": {},
   "source": []
  },
  {
   "cell_type": "code",
   "execution_count": null,
   "metadata": {},
   "outputs": [],
   "source": []
  }
 ],
 "metadata": {
  "interpreter": {
   "hash": "26890c58fd4f0c09a120ad97e482824172cf42aed555772326092c2601d2cef8"
  },
  "kernelspec": {
   "display_name": "Python 3 (ipykernel)",
   "language": "python",
   "name": "python3"
  },
  "language_info": {
   "codemirror_mode": {
    "name": "ipython",
    "version": 3
   },
   "file_extension": ".py",
   "mimetype": "text/x-python",
   "name": "python",
   "nbconvert_exporter": "python",
   "pygments_lexer": "ipython3",
   "version": "3.9.18"
  }
 },
 "nbformat": 4,
 "nbformat_minor": 4
}
